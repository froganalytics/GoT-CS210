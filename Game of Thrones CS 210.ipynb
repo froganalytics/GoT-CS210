{
 "cells": [
  {
   "cell_type": "code",
   "execution_count": 36,
   "metadata": {
    "collapsed": true
   },
   "outputs": [],
   "source": [
    "import numpy as np\n",
    "import pandas as pd\n",
    "import seaborn as sns\n",
    "import matplotlib as mpl\n",
    "import matplotlib.pyplot as plt\n",
    "from collections import Counter\n",
    "import matplotlib.patches as mpatches\n",
    "sns.set_style(\"white\")\n",
    "%matplotlib inline\n",
    "#Hypothesis testing\n",
    "import scipy.stats as stats\n",
    "from scipy.stats import t\n"
   ]
  },
  {
   "cell_type": "code",
   "execution_count": 37,
   "metadata": {
    "collapsed": true
   },
   "outputs": [],
   "source": [
    "#read files \n",
    "battles = pd.read_csv(\"battles.csv\")\n",
    "character_predictions = pd.read_csv(\"character-predictions.csv\")\n",
    "character_deaths = pd.read_csv(\"character-deaths.csv\")"
   ]
  },
  {
   "cell_type": "code",
   "execution_count": 38,
   "metadata": {},
   "outputs": [
    {
     "name": "stdout",
     "output_type": "stream",
     "text": [
      "                 major_death  major_capture\n",
      "region                                     \n",
      "Beyond the Wall          1.0            1.0\n",
      "The Crownlands           2.0            1.0\n",
      "The North                1.0            2.0\n",
      "The Reach                0.0            0.0\n",
      "The Riverlands           6.0            6.0\n",
      "The Stormlands           1.0            0.0\n",
      "The Westerlands          2.0            1.0\n"
     ]
    }
   ],
   "source": [
    "data = battles.groupby(\"region\").sum()[[\"major_death\", \"major_capture\"]]\n",
    "print (data)"
   ]
  },
  {
   "cell_type": "code",
   "execution_count": 39,
   "metadata": {},
   "outputs": [
    {
     "data": {
      "image/png": "[encoded data removed]",
      "text/plain": [
       "<matplotlib.figure.Figure at 0x27d748d9438>"
      ]
     },
     "metadata": {},
     "output_type": "display_data"
    }
   ],
   "source": [
    "#Hypothesis testing 1\n",
    "#Bar chart for analysing the relation between evets and major deaths/captures.\n",
    "p = pd.concat([data, battles.region.value_counts().to_frame()], axis = 1).sort_values(\"major_death\", ascending = False).copy(deep = True).plot.bar(color = [sns.color_palette()[1], \"grey\", \"darkblue\"], rot = 15)\n",
    "_ = p.set(xlabel = \"Region\", ylabel = \"No. of Events\"), p.legend([\"No. of Battles\", \"Major Deaths\", \"Major Captures\"], fontsize = 12.)"
   ]
  },
  {
   "cell_type": "code",
   "execution_count": 40,
   "metadata": {},
   "outputs": [
    {
     "name": "stdout",
     "output_type": "stream",
     "text": [
      "                 attacker_size  defender_size\n",
      "region                                       \n",
      "Beyond the Wall       100000.0         1240.0\n",
      "The Crownlands         24000.0         7250.0\n",
      "The North              11646.0        11100.0\n",
      "The Reach                  NaN            NaN\n",
      "The Riverlands         68975.0        68345.0\n",
      "The Stormlands          7000.0        20200.0\n",
      "The Westerlands        27000.0        14000.0\n"
     ]
    }
   ],
   "source": [
    "#We look at the data of attacker size and defender size of each region for hypothesis testing #3\n",
    "rgn = battles.groupby('region').sum()[[\"attacker_size\", \"defender_size\"]]\n",
    "print(rgn)"
   ]
  },
  {
   "cell_type": "code",
   "execution_count": 41,
   "metadata": {},
   "outputs": [
    {
     "name": "stdout",
     "output_type": "stream",
     "text": [
      "            isAlive\n",
      "popularity         \n",
      "0.000000         72\n",
      "0.003344         80\n",
      "0.006689        106\n",
      "0.010033        102\n",
      "0.013378        106\n",
      "0.016722        104\n",
      "0.020067         72\n",
      "0.023411         68\n",
      "0.026756         57\n",
      "0.030100         29\n",
      "0.033445         32\n",
      "0.036789         28\n",
      "0.040134         27\n",
      "0.043478         38\n",
      "0.046823         26\n",
      "0.050167         29\n",
      "0.053512         16\n",
      "0.056856         15\n",
      "0.060201         20\n",
      "0.063545         20\n",
      "0.066890         15\n",
      "0.070234         17\n",
      "0.073579         14\n",
      "0.076923         15\n",
      "0.080268         16\n",
      "0.083612         14\n",
      "0.086957         16\n",
      "0.090301          8\n",
      "0.093645          2\n",
      "0.096990          5\n",
      "...             ...\n",
      "0.605351          0\n",
      "0.618729          1\n",
      "0.622074          0\n",
      "0.625418          0\n",
      "0.638796          0\n",
      "0.655518          1\n",
      "0.658863          0\n",
      "0.665552          1\n",
      "0.668896          0\n",
      "0.675585          0\n",
      "0.678930          0\n",
      "0.695652          0\n",
      "0.705686          1\n",
      "0.709030          2\n",
      "0.719064          1\n",
      "0.722408          1\n",
      "0.739130          1\n",
      "0.745819          1\n",
      "0.759197          0\n",
      "0.765886          0\n",
      "0.772575          0\n",
      "0.799331          0\n",
      "0.836120          0\n",
      "0.856187          1\n",
      "0.869565          0\n",
      "0.896321          1\n",
      "0.899666          1\n",
      "0.969900          2\n",
      "0.979933          1\n",
      "1.000000         14\n",
      "\n",
      "[166 rows x 1 columns]\n"
     ]
    }
   ],
   "source": [
    "popAlive =character_predictions.groupby(\"popularity\").sum()[[\"isAlive\"]]\n",
    "print(popAlive)"
   ]
  },
  {
   "cell_type": "code",
   "execution_count": 42,
   "metadata": {},
   "outputs": [
    {
     "data": {
      "image/png": "[encoded data removed]",
      "text/plain": [
       "<matplotlib.figure.Figure at 0x27d74a0bc88>"
      ]
     },
     "metadata": {},
     "output_type": "display_data"
    }
   ],
   "source": [
    "p = pd.concat([data, battles.region.value_counts().to_frame()], axis = 1).sort_values(\"major_death\", ascending = False).copy(deep = True).plot.bar(color = [sns.color_palette()[1], \"grey\", \"darkblue\"], rot = 15)\n",
    "_ = p.set(xlabel = \"Region\", ylabel = \"No. of Events\"), p.legend([\"No. of Battles\", \"Major Deaths\", \"Major Captures\"], fontsize = 12.)\n"
   ]
  },
  {
   "cell_type": "code",
   "execution_count": 43,
   "metadata": {},
   "outputs": [
    {
     "data": {
      "text/html": [
       "<div>\n",
       "<style>\n",
       "    .dataframe thead tr:only-child th {\n",
       "        text-align: right;\n",
       "    }\n",
       "\n",
       "    .dataframe thead th {\n",
       "        text-align: left;\n",
       "    }\n",
       "\n",
       "    .dataframe tbody tr th {\n",
       "        vertical-align: top;\n",
       "    }\n",
       "</style>\n",
       "<table border=\"1\" class=\"dataframe\">\n",
       "  <thead>\n",
       "    <tr style=\"text-align: right;\">\n",
       "      <th></th>\n",
       "      <th>isAlive</th>\n",
       "    </tr>\n",
       "  </thead>\n",
       "  <tbody>\n",
       "    <tr>\n",
       "      <th>count</th>\n",
       "      <td>166.000000</td>\n",
       "    </tr>\n",
       "    <tr>\n",
       "      <th>mean</th>\n",
       "      <td>8.740964</td>\n",
       "    </tr>\n",
       "    <tr>\n",
       "      <th>std</th>\n",
       "      <td>20.147917</td>\n",
       "    </tr>\n",
       "    <tr>\n",
       "      <th>min</th>\n",
       "      <td>0.000000</td>\n",
       "    </tr>\n",
       "    <tr>\n",
       "      <th>25%</th>\n",
       "      <td>0.250000</td>\n",
       "    </tr>\n",
       "    <tr>\n",
       "      <th>50%</th>\n",
       "      <td>1.000000</td>\n",
       "    </tr>\n",
       "    <tr>\n",
       "      <th>75%</th>\n",
       "      <td>6.000000</td>\n",
       "    </tr>\n",
       "    <tr>\n",
       "      <th>max</th>\n",
       "      <td>106.000000</td>\n",
       "    </tr>\n",
       "  </tbody>\n",
       "</table>\n",
       "</div>"
      ],
      "text/plain": [
       "          isAlive\n",
       "count  166.000000\n",
       "mean     8.740964\n",
       "std     20.147917\n",
       "min      0.000000\n",
       "25%      0.250000\n",
       "50%      1.000000\n",
       "75%      6.000000\n",
       "max    106.000000"
      ]
     },
     "execution_count": 43,
     "metadata": {},
     "output_type": "execute_result"
    }
   ],
   "source": [
    "popAlive.describe()"
   ]
  },
  {
   "cell_type": "code",
   "execution_count": 46,
   "metadata": {
    "collapsed": true
   },
   "outputs": [],
   "source": [
    "data = pd.read_csv(\"character-predictions.csv\")"
   ]
  },
  {
   "cell_type": "code",
   "execution_count": 47,
   "metadata": {},
   "outputs": [
    {
     "name": "stdout",
     "output_type": "stream",
     "text": [
      "2.09913347242e-06\n"
     ]
    }
   ],
   "source": [
    "#P value testing\n",
    "N = data.count()\n",
    "meanpop = data.mean()[\"popularity\"]\n",
    "meanalive = data.mean()[\"isAlive\"]\n",
    "varpop = data.var()[\"popularity\"]\n",
    "varalive = data.var()[\"isAlive\"]\n",
    "s = np.sqrt(varpop + varalive)\n",
    "t = ((meanalive - meanpop)/(s*np.sqrt(2/N)))\n",
    "df = 2*N -2\n",
    "p= 1- stats.t.cdf(t,df=df)\n",
    "print (p.mean())"
   ]
  },
  {
   "cell_type": "code",
   "execution_count": 19,
   "metadata": {},
   "outputs": [
    {
     "data": {
      "image/png": "[encoded data removed]",
      "text/plain": [
       "<matplotlib.figure.Figure at 0x27d74a3fb38>"
      ]
     },
     "metadata": {},
     "output_type": "display_data"
    }
   ],
   "source": [
    "#Hypothesis testing 3\n",
    "#We look at the army size in a region and its relation with the major deaths/captures\n",
    "rgn = battles.groupby('region').sum()[[\"attacker_size\", \"defender_size\",]].plot(kind='barh', figsize=(15,6), rot=0)\n",
    "_ = rgn.set_xlabel(\"Army Size\"), rgn.set_ylabel(\"Region\"), rgn.legend([\"Attackers\", \"Defenders\"])\n"
   ]
  },
  {
   "cell_type": "code",
   "execution_count": null,
   "metadata": {
    "collapsed": true
   },
   "outputs": [],
   "source": []
  }
 ],
 "metadata": {
  "kernelspec": {
   "display_name": "Python 3",
   "language": "python",
   "name": "python3"
  },
  "language_info": {
   "codemirror_mode": {
    "name": "ipython",
    "version": 3
   },
   "file_extension": ".py",
   "mimetype": "text/x-python",
   "name": "python",
   "nbconvert_exporter": "python",
   "pygments_lexer": "ipython3",
   "version": "3.6.3"
  }
 },
 "nbformat": 4,
 "nbformat_minor": 2
}
